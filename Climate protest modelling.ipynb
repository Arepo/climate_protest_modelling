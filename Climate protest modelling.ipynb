{
 "cells": [
  {
   "cell_type": "code",
   "execution_count": 1,
   "id": "5a41ce39-49fb-404d-9bb3-e4e5a7f6ef64",
   "metadata": {},
   "outputs": [
    {
     "name": "stderr",
     "output_type": "stream",
     "text": [
      "/var/folders/b1/7tbkc6wd40g89mxvkffpbcy40000gn/T/ipykernel_5623/4035090683.py:16: TqdmDeprecationWarning: This function will be removed in tqdm==5.0.0\n",
      "Please use `tqdm.notebook.*` instead of `tqdm._tqdm_notebook.*`\n",
      "  from tqdm._tqdm_notebook import tqdm_notebook\n"
     ]
    }
   ],
   "source": [
    "import pandas as pd\n",
    "import numpy as np\n",
    "import matplotlib.pyplot as plt\n",
    "import matplotlib.ticker as ticker\n",
    "import matplotlib.dates as mdates\n",
    "import seaborn as sns\n",
    "from sklearn.base import BaseEstimator, TransformerMixin\n",
    "from sklearn.pipeline import Pipeline\n",
    "from sklearn.linear_model import LinearRegression\n",
    "from sklearn.preprocessing import RobustScaler\n",
    "from sklearn.model_selection import (train_test_split, \n",
    "cross_val_score, permutation_test_score, RandomizedSearchCV)\n",
    "from scipy.stats import uniform, randint\n",
    "\n",
    "import re\n",
    "from tqdm._tqdm_notebook import tqdm_notebook\n",
    "tqdm_notebook.pandas()\n",
    "from deep_translator import GoogleTranslator\n",
    "\n",
    "%load_ext autoreload\n",
    "%autoreload 2"
   ]
  },
  {
   "cell_type": "markdown",
   "id": "82848972-57f5-4d10-bdb7-6bc5383e8f15",
   "metadata": {},
   "source": [
    "# Data preprocessing"
   ]
  },
  {
   "cell_type": "markdown",
   "id": "55275edf-4185-4670-b84c-8b281f9d805b",
   "metadata": {},
   "source": [
    "**Fetch data on European climate protests from 2020 onwards (when it seems to start being somewhat reliably tracked)**"
   ]
  },
  {
   "cell_type": "code",
   "execution_count": 2,
   "id": "1fdef15e-55a2-476a-b799-8169083458cc",
   "metadata": {},
   "outputs": [],
   "source": [
    "og_protests_df = pd.read_csv(\"./data/protests.csv\")\n",
    "og_protests_df.event_date = pd.to_datetime(og_protests_df.event_date)\n",
    "og_protests_df.sort_values(by=\"event_date\", inplace=True)\n",
    "# Protest data from 2019 looks highly suspicious - less than 10% as many\n",
    "# protests as 2020 with around 1/30th or 1/40th as many total protesters\n",
    "og_protests_df = og_protests_df[og_protests_df['event_date'] >= '2020-01-01']\n",
    "og_protests_df = og_protests_df[['event_date', 'tags']]"
   ]
  },
  {
   "cell_type": "markdown",
   "id": "71ba21f2-1936-4464-9622-dd7d69f321ad",
   "metadata": {},
   "source": [
    "*Note: protest data was taken from the [ACLED database](https://acleddata.com/data-export-tool/) on 2024-07-17, filtering for event_type = \"Protests\", year = 2019 through to 2024, regions=[\"Europe\"], keyword=\"climate\"*\n",
    "\n",
    "*Parliament speech data was taken from the [EU Parliament database](https://data.europarl.europa.eu/en/home); date and parameters unknown*"
   ]
  },
  {
   "cell_type": "markdown",
   "id": "91f82aba-987e-4d7b-a282-d4af632a8aec",
   "metadata": {},
   "source": [
    "**Fetch data on European Parliament speech content**"
   ]
  },
  {
   "cell_type": "code",
   "execution_count": 3,
   "id": "24992320-e955-4efd-b70f-82d86f7884f3",
   "metadata": {},
   "outputs": [],
   "source": [
    "speeches_df = pd.read_csv('./data/speeches.csv.gz', escapechar=\"\\\\\", compression=\"gzip\")\n",
    "speeches_df[\"date\"] = pd.to_datetime(speeches_df[\"date\"])\n",
    "speeches_df = speeches_df[~speeches_df.date.isna()]\n",
    "speeches_df = speeches_df.sort_values('date')"
   ]
  },
  {
   "cell_type": "code",
   "execution_count": 4,
   "id": "15897e11-dc4f-4b19-8547-000a8b915c04",
   "metadata": {},
   "outputs": [
    {
     "name": "stdout",
     "output_type": "stream",
     "text": [
      "First speech: 2002-03-19 00:00:00\n",
      "First protest: 2020-01-01 00:00:00\n",
      "Last recorded speech: 2024-09-29 00:00:00\n",
      "Last recorded protest: 2024-07-12 00:00:00\n"
     ]
    }
   ],
   "source": [
    "first_protest = og_protests_df.event_date.iloc[0]\n",
    "first_speech = speeches_df.date.iloc[0]\n",
    "last_recorded_protest = og_protests_df.event_date.iloc[-1]\n",
    "last_recorded_speech = speeches_df.date.iloc[-1]\n",
    "print(f'First speech: {first_speech}')\n",
    "print(f'First protest: {first_protest}')\n",
    "print(f'Last recorded speech: {last_recorded_speech}')\n",
    "print(f'Last recorded protest: {last_recorded_protest}')"
   ]
  },
  {
   "cell_type": "markdown",
   "id": "d52df1cd-195c-4996-bfee-13c69b8dc5dd",
   "metadata": {},
   "source": [
    "**Ensure the dataframes cover the same date range (some protest data is available from slightly earlier, but is highly patchy)**"
   ]
  },
  {
   "cell_type": "code",
   "execution_count": 5,
   "id": "da299e50-ca5b-4384-8545-caa634d40e0f",
   "metadata": {},
   "outputs": [
    {
     "data": {
      "text/html": [
       "<div>\n",
       "<style scoped>\n",
       "    .dataframe tbody tr th:only-of-type {\n",
       "        vertical-align: middle;\n",
       "    }\n",
       "\n",
       "    .dataframe tbody tr th {\n",
       "        vertical-align: top;\n",
       "    }\n",
       "\n",
       "    .dataframe thead th {\n",
       "        text-align: right;\n",
       "    }\n",
       "</style>\n",
       "<table border=\"1\" class=\"dataframe\">\n",
       "  <thead>\n",
       "    <tr style=\"text-align: right;\">\n",
       "      <th></th>\n",
       "      <th>date</th>\n",
       "      <th>text</th>\n",
       "    </tr>\n",
       "  </thead>\n",
       "  <tbody>\n",
       "    <tr>\n",
       "      <th>223</th>\n",
       "      <td>2020-01-15</td>\n",
       "      <td>\\n \\n2019  - 2024  \\n \\n \\nПЪЛЕН  ПРОТОКОЛ  Н...</td>\n",
       "    </tr>\n",
       "  </tbody>\n",
       "</table>\n",
       "</div>"
      ],
      "text/plain": [
       "          date                                               text\n",
       "223 2020-01-15   \\n \\n2019  - 2024  \\n \\n \\nПЪЛЕН  ПРОТОКОЛ  Н..."
      ]
     },
     "execution_count": 5,
     "metadata": {},
     "output_type": "execute_result"
    }
   ],
   "source": [
    "# Drop speeches outside the dates for which we have convincing protest data\n",
    "speeches_df = speeches_df[(speeches_df['date'] >= '2020-01-01') & (speeches_df['date'] <= last_recorded_protest)]\n",
    "\n",
    "# Drop protests after the last speech for which we have a complete protest record\n",
    "og_protests_df = og_protests_df[og_protests_df['event_date'] <= speeches_df.date.iloc[-1]]\n",
    "\n",
    "# speeches_df = speeches_df[~speeches_df['date'].isna()]\n",
    "speeches_df = speeches_df.sort_values(by=\"date\")\n",
    "speeches_df = speeches_df[~speeches_df['date'].isna()]\n",
    "speeches_df = speeches_df[~speeches_df['text'].isna()]\n",
    "speeches_df.head(1)"
   ]
  },
  {
   "cell_type": "code",
   "execution_count": 6,
   "id": "ecccba3a-4da8-4594-a6d6-d422e5b74226",
   "metadata": {},
   "outputs": [
    {
     "name": "stdout",
     "output_type": "stream",
     "text": [
      "First relevant speech: 2020-01-15 00:00:00\n",
      "First relevant protest: 2020-01-01 00:00:00\n",
      "Last relevant speech: 2024-03-19 00:00:00\n",
      "Last relevant protest: 2024-03-19 00:00:00\n"
     ]
    }
   ],
   "source": [
    "first_relevant_protest = og_protests_df.event_date.iloc[0]\n",
    "first_relevant_speech = speeches_df.date.iloc[0]\n",
    "last_relevant_protest = og_protests_df.event_date.iloc[-1]\n",
    "last_relevant_speech = speeches_df.date.iloc[-1]\n",
    "print(f'First relevant speech: {first_relevant_speech}')\n",
    "print(f'First relevant protest: {first_relevant_protest}')\n",
    "print(f'Last relevant speech: {last_relevant_speech}')\n",
    "print(f'Last relevant protest: {last_relevant_protest}')"
   ]
  },
  {
   "cell_type": "code",
   "execution_count": 7,
   "id": "89349722-e5bd-48d4-89d3-2b250ddd0fb2",
   "metadata": {},
   "outputs": [
    {
     "name": "stdout",
     "output_type": "stream",
     "text": [
      "818487\n"
     ]
    },
    {
     "data": {
      "text/plain": [
       "' \\n \\n2019  - 2024  \\n \\n \\nПЪЛЕН  ПРОТОКОЛ  НА РАЗИСКВАНИЯТА    DEBAŠU  STENOGRAMMA  \\nACTA  LITERAL  DE LOS  DEBATES    POSĖDŽIO  STENOGRAMA  \\nDOSLOVNÝ  ZÁZNAM  ZE ZASEDÁNÍ    AZ ÜLÉSEK  SZÓ  SZERINTI  JEGYZŐKÖNYVE  \\nFULDSTÆNDIGT  FORHANDLINGSREFERAT    RAPPORTI  VERBATIM  TAD-DIBATTITI  \\nAUSFÜHRLICHE  SITZUNGSBERICHTE    VOLLEDIG  VERSLAG  VAN  DE VERGADERINGEN  \\nISTUNGI  STENOGRAMM    PEŁNE  SPRAWOZDANIE  Z OBRAD  \\nΠΛΗΡΗ  ΠΡΑΚΤΙΚΑ  ΤΩΝ  ΣΥΖΗΤΗΣΕΩΝ    RELATO  INTEGRAL  DOS  DEBATES  \\nVERBATIM  REPORT  OF PROCEEDINGS    STENOGRAMA  DEZBATERILOR  \\nCOMPTE  RENDU  IN EXTENSO  DES  DÉBATS    DOSLOVNÝ  ZÁPIS  Z ROZPRÁV  \\nTUARASCÁIL  FOCAL  AR FHOCAL  NA N-IMEACHTAÍ    DOBESEDNI  ZAPISI  RAZPRAV  \\nDOSLOVNO  IZVJEŠĆE    SANATARKAT  ISTUNTOSELOSTUKSET  \\nRESOCONTO  INTEGRALE  DELLE  DISCUSSIONI    FULLSTÄNDIGT  FÖRHANDLINGSREFERAT  \\n \\n \\nСряда  - Miércoles  - Středa  - Onsdag  - Mittwoch  - Kolmapäev  - Τετάρτη  - Wednesday  \\nMercredi  - Dé Céadaoin  - Srijeda  - Mercoledì  - Trešdiena  - Trečiadien'"
      ]
     },
     "execution_count": 7,
     "metadata": {},
     "output_type": "execute_result"
    }
   ],
   "source": [
    "print(len(speeches_df['text'].iloc[0]))\n",
    "speeches_df['text'].iloc[0][:1000]"
   ]
  },
  {
   "cell_type": "markdown",
   "id": "0b39e8bb-a2bf-4266-b2fc-2caa37330806",
   "metadata": {},
   "source": [
    "**Remove prepended metadata from speech transcripts TODO: refine this regex (though it seems to be working surprisingly well for an MVP)**"
   ]
  },
  {
   "cell_type": "code",
   "execution_count": 8,
   "id": "b651bb30-227c-4589-81e3-dcbc5465a8f6",
   "metadata": {},
   "outputs": [],
   "source": [
    "def preprocess(text):\n",
    "  pattern = re.compile(r'\\.+.*\\.+') # delete first section with '...'\n",
    "  text = pattern.sub(r'', text)\n",
    "  pattern = re.compile(r\"\\n\") # delete new line markers\n",
    "  text = pattern.sub(r'', text)\n",
    "  text = re.sub(r'\\s+', ' ', text) # delete additional whitespace between words\n",
    "  text = text.lower()\n",
    "  return text"
   ]
  },
  {
   "cell_type": "code",
   "execution_count": 9,
   "id": "3001ba61-65f5-4b0d-b0e5-d407621236a4",
   "metadata": {},
   "outputs": [
    {
     "data": {
      "application/vnd.jupyter.widget-view+json": {
       "model_id": "599c88b0beaa4171b4cf75a58bc75f07",
       "version_major": 2,
       "version_minor": 0
      },
      "text/plain": [
       "  0%|          | 0/226 [00:00<?, ?it/s]"
      ]
     },
     "metadata": {},
     "output_type": "display_data"
    }
   ],
   "source": [
    "speeches_df[\"clean_text\"] = speeches_df[\"text\"].progress_apply(preprocess)"
   ]
  },
  {
   "cell_type": "markdown",
   "id": "9c7ffdfb-91b9-4c07-b990-eec3dbf978c6",
   "metadata": {},
   "source": [
    "**Combine transcript of multiple speeches on a single day, so we have at most one transcript per day**"
   ]
  },
  {
   "cell_type": "code",
   "execution_count": 10,
   "id": "97bd367d-d01e-4011-9cff-cd056642dd2d",
   "metadata": {},
   "outputs": [],
   "source": [
    "# Fill missing values in the \"text\" column with empty strings\n",
    "speeches_df[\"clean_text\"] = speeches_df[\"clean_text\"].fillna(\"\")\n",
    "\n",
    "# Group by day and aggregate the text\n",
    "speeches_df = speeches_df.groupby(speeches_df[\"date\"]).agg({\"clean_text\": \" \".join})"
   ]
  },
  {
   "cell_type": "code",
   "execution_count": 11,
   "id": "d6e5ed57-9533-4685-8ad1-e3da2fba3757",
   "metadata": {},
   "outputs": [],
   "source": [
    "speeches_df['speech_length'] = speeches_df[\"clean_text\"].str.len()"
   ]
  },
  {
   "cell_type": "code",
   "execution_count": 12,
   "id": "385d39c2-7a87-4726-8e8a-2c0c23d04341",
   "metadata": {},
   "outputs": [
    {
     "name": "stdout",
     "output_type": "stream",
     "text": [
      "646375\n"
     ]
    },
    {
     "data": {
      "text/plain": [
       "' 2019 - 2024 пълен протокол на разискванията debašu stenogramma acta literal de los debates posėdžio stenograma doslovný záznam ze zasedání az ülések szó szerinti jegyzőkönyve fuldstændigt forhandlingsreferat rapporti verbatim tad-dibattiti ausführliche sitzungsberichte volledig verslag van de vergaderingen istungi stenogramm pełne sprawozdanie z obrad πληρη πρακτικα των συζητησεων relato integral dos debates verbatim report of proceedings stenograma dezbaterilor compte rendu in extenso des débats doslovný zápis z rozpráv tuarascáil focal ar fhocal na n-imeachtaí dobesedni zapisi razprav doslovno izvješće sanatarkat istuntoselostukset resoconto integrale delle discussioni fullständigt förhandlingsreferat сряда - miércoles - středa - onsdag - mittwoch - kolmapäev - τετάρτη - wednesday mercredi - dé céadaoin - srijeda - mercoledì - trešdiena - trečiadienis - szerda l-erbgħa - woensdag - środa - quarta-feira - miercuri - streda - sreda - keskiviikko - onsdag 152020 единство в многообразие'"
      ]
     },
     "execution_count": 12,
     "metadata": {},
     "output_type": "execute_result"
    }
   ],
   "source": [
    "print(len(speeches_df['clean_text'].iloc[0]))\n",
    "speeches_df['clean_text'].iloc[0][:1000]"
   ]
  },
  {
   "cell_type": "markdown",
   "id": "efea02da-93a3-4b15-952d-d1a707121255",
   "metadata": {},
   "source": [
    "**Get a translation of the phrase 'climate change' for every European language**"
   ]
  },
  {
   "cell_type": "code",
   "execution_count": 13,
   "id": "f1c52165-ffd6-4ca2-86ef-639d29212794",
   "metadata": {},
   "outputs": [],
   "source": [
    "# translate keywords to eu-languages\n",
    "keywords = \"climate change\"\n",
    "eu_lang = ['bg','cs','da','de','el','en','es','et','fi','fr','ga','hr','hu','it','lt','lv','mt','nl','pl','pt','ro','sk','sl','sv']\n",
    "keywords_translated = []\n",
    "for i in eu_lang:\n",
    "  translated = GoogleTranslator(source='auto', target=i).translate(text=keywords)\n",
    "  keywords_translated.append(translated)\n",
    "keywords_eu_lang = \"|\".join(keywords_translated).lower()"
   ]
  },
  {
   "cell_type": "markdown",
   "id": "343cf6f5-fe20-4268-9f73-f8369c16f20f",
   "metadata": {},
   "source": [
    "**Find out what proportion of words in the transcript for each day with at least one speech are (a translation of) the phrase 'climate change' (\"Down with climate change!\" would register as 0.25)**"
   ]
  },
  {
   "cell_type": "code",
   "execution_count": 14,
   "id": "cc889987-c32d-405f-a35e-123a62367e16",
   "metadata": {},
   "outputs": [
    {
     "data": {
      "text/html": [
       "<div>\n",
       "<style scoped>\n",
       "    .dataframe tbody tr th:only-of-type {\n",
       "        vertical-align: middle;\n",
       "    }\n",
       "\n",
       "    .dataframe tbody tr th {\n",
       "        vertical-align: top;\n",
       "    }\n",
       "\n",
       "    .dataframe thead th {\n",
       "        text-align: right;\n",
       "    }\n",
       "</style>\n",
       "<table border=\"1\" class=\"dataframe\">\n",
       "  <thead>\n",
       "    <tr style=\"text-align: right;\">\n",
       "      <th></th>\n",
       "      <th>speech_length</th>\n",
       "      <th>climate_mentions_percent</th>\n",
       "    </tr>\n",
       "    <tr>\n",
       "      <th>date</th>\n",
       "      <th></th>\n",
       "      <th></th>\n",
       "    </tr>\n",
       "  </thead>\n",
       "  <tbody>\n",
       "    <tr>\n",
       "      <th>2020-01-15</th>\n",
       "      <td>646375</td>\n",
       "      <td>0.013057</td>\n",
       "    </tr>\n",
       "    <tr>\n",
       "      <th>2020-01-29</th>\n",
       "      <td>448030</td>\n",
       "      <td>0.012614</td>\n",
       "    </tr>\n",
       "    <tr>\n",
       "      <th>2020-02-12</th>\n",
       "      <td>716390</td>\n",
       "      <td>0.018191</td>\n",
       "    </tr>\n",
       "    <tr>\n",
       "      <th>2020-03-19</th>\n",
       "      <td>10207308</td>\n",
       "      <td>0.020888</td>\n",
       "    </tr>\n",
       "    <tr>\n",
       "      <th>2020-05-13</th>\n",
       "      <td>230860</td>\n",
       "      <td>0.008285</td>\n",
       "    </tr>\n",
       "  </tbody>\n",
       "</table>\n",
       "</div>"
      ],
      "text/plain": [
       "            speech_length  climate_mentions_percent\n",
       "date                                               \n",
       "2020-01-15         646375                  0.013057\n",
       "2020-01-29         448030                  0.012614\n",
       "2020-02-12         716390                  0.018191\n",
       "2020-03-19       10207308                  0.020888\n",
       "2020-05-13         230860                  0.008285"
      ]
     },
     "execution_count": 14,
     "metadata": {},
     "output_type": "execute_result"
    }
   ],
   "source": [
    "speeches_df['climate_mentions_percent'] = (speeches_df[\"clean_text\"].str.count(keywords_eu_lang) / speeches_df[\"clean_text\"].str.split().str.len())*100\n",
    "speeches_df.drop('clean_text', axis=1, inplace=True)\n",
    "speeches_df.head()"
   ]
  },
  {
   "cell_type": "code",
   "execution_count": 15,
   "id": "b957a59f-88d7-41db-94b3-1575a200c4a9",
   "metadata": {},
   "outputs": [
    {
     "data": {
      "image/png": "[encoded data removed]",
      "text/plain": [
       "<Figure size 2200x500 with 1 Axes>"
      ]
     },
     "metadata": {},
     "output_type": "display_data"
    }
   ],
   "source": [
    "fig, ax = plt.subplots(figsize=(22, 5))\n",
    "speeches_df['climate_mentions_percent'].plot(ax=ax, marker='o', linestyle='-', linewidth=2, color=\"#0202cc\", fontsize=18)\n",
    "\n",
    "ax.set_title(\"Proportion of 'Climate Change' Mentions in European Parliament Speeches\", fontsize=20, fontweight = \"bold\", pad=25)\n",
    "ax.set_ylabel(\"Keyword density\",fontsize=18)\n",
    "ax.set_xlabel(\"\")\n",
    "\n",
    "def format_func(value, tick_number):\n",
    "  return '{:.2f} %'.format(value)\n",
    "ax.yaxis.set_major_formatter(ticker.FuncFormatter(format_func))\n",
    "\n",
    "gcs_dates = [\"2020-09-25\", \"2021-03-19\", \"2021-09-24\", \"2022-03-25\", \"2022-09-23\", \"2023-03-03\", \"2023-09-15\"]\n",
    "for i in gcs_dates:\n",
    "  plt.axvline(x = i, color = '#b3b3ef', label = 'Global Climate Strikes', linewidth=2)\n",
    "\n",
    "fig.autofmt_xdate()\n",
    "\n",
    "plt.axvline(x = \"2020-03-11\", color = 'pink', label = 'Other political events', linewidth=2)\n",
    "plt.axvline(x = \"2022-02-24\", color = 'pink', label = 'Other political events', linewidth=2)\n",
    "ax.text(\"2020-03-11\", 0.11, \"Start of Covid-19 \\npandemic\", rotation=0, verticalalignment='top', horizontalalignment='center', color=\"red\")\n",
    "ax.text(\"2022-02-24\", 0.11, \"Russian invasion \\nof Ukraine\", rotation=0, verticalalignment='top', horizontalalignment='center', color=\"red\")\n",
    "\n",
    "# Remove legend\n",
    "# ax.legend().remove()\n",
    "# Get legend handles and labels\n",
    "handles, labels = ax.get_legend_handles_labels()\n",
    "legend_dict = {label: handle for handle, label in zip(handles, labels)}\n",
    "legend_dict.pop('speech_count', None)\n",
    "\n",
    "# Create legend for each color\n",
    "plt.legend(legend_dict.values(), legend_dict.keys(), loc='upper right', fontsize=\"x-large\")\n",
    "\n",
    "\n",
    "# Rotate x-axis tick labels\n",
    "plt.xticks(rotation=0)\n",
    "\n",
    "plt.show()"
   ]
  },
  {
   "cell_type": "markdown",
   "id": "7f410b5d-4adc-4dc1-8d6e-c0f6efb003dc",
   "metadata": {},
   "source": [
    "**Convert natural language statements of crowd size at protests into integers. For now, we leave 'unknown' as NAN, and flag them for later processing since there are various things we might decide to do here.**"
   ]
  },
  {
   "cell_type": "code",
   "execution_count": 16,
   "id": "2589df0b-8278-4b7e-b2e8-07e5abf59236",
   "metadata": {},
   "outputs": [
    {
     "name": "stderr",
     "output_type": "stream",
     "text": [
      "/Users/sashacooper/.pyenv/versions/3.10.6/envs/climate/lib/python3.10/site-packages/numpy/_core/fromnumeric.py:3596: RuntimeWarning: Mean of empty slice.\n",
      "  return _methods._mean(a, axis=axis, dtype=dtype,\n",
      "/Users/sashacooper/.pyenv/versions/3.10.6/envs/climate/lib/python3.10/site-packages/numpy/_core/_methods.py:138: RuntimeWarning: invalid value encountered in scalar divide\n",
      "  ret = ret.dtype.type(ret / rcount)\n"
     ]
    }
   ],
   "source": [
    "def infer_crowd_size(tag):\n",
    "  \"\"\"Convert the text strings giving estimated protester counts (sometimes as a\n",
    "  range) into an integer (in the middle of the range)\"\"\"\n",
    "\n",
    "  # Start with the numerous special cases\n",
    "  if any (s in tag for s in (\"several\", \"multiple\", \"a few\", \"some\", \"a group\",\n",
    "    \"a small group\", \"small group\", \"a couple\", \"half dozen\", \"half-dozen\",\n",
    "    \"half a dozen\", \"a handful\", \"handful\", \"small\")\n",
    "  ):\n",
    "    return 5\n",
    "\n",
    "  estimates = {\n",
    "    (\"hundreds\", \"hundred\"): 500,\n",
    "    (\"between hundreds and 2000\",): 2750,\n",
    "    (\"thousands\", \"thousand\"): 5000,\n",
    "    (\"tens of thousands\",): 50_000,\n",
    "    (\"hundreds of thousands\",): 500_000,\n",
    "    (\"between dozens and 250\",): (50+250)//2,\n",
    "    (\"one to three\",): 2,\n",
    "    (\"two dozens\",): 24\n",
    "  }\n",
    "\n",
    "  for text, estimate in estimates.items():\n",
    "    if any (s in tag for s in text):\n",
    "      return estimate\n",
    "\n",
    "  if any (s in tag for s in (\"dozens\", \"tens\", \"tenfold\", \"scores\", \"big group\",\n",
    "    \"large group\", \"numerous\", \"many\", \"large number\", \"numerous small groups\",\n",
    "    \"large\", \"multitude\")):\n",
    "    return 50\n",
    "\n",
    "  # Regex to capture Arabic numbers that may or may not include commas:\n",
    "  number_pattern = '\\d{1,3}(?:,?\\d*)*'\n",
    "  numbers = re.findall(number_pattern, tag)\n",
    "  # Remove commas from numbers and then convert them to integers\n",
    "  numbers = [int(num.replace(',', '')) for num in numbers]\n",
    "\n",
    "  # If we have two or more numbers, assume it's a range, and take their mean\n",
    "  mean = np.mean(numbers)\n",
    "\n",
    "  if tag.endswith(\"dozen\") and any(numbers):\n",
    "    return mean * 12\n",
    "  if tag.endswith(\"dozen\"):\n",
    "    return 12\n",
    "\n",
    "  # Don't replace NaNs yet\n",
    "  if np.isnan(mean):\n",
    "    return np.nan\n",
    "  return int(round(mean))\n",
    "\n",
    "og_protests_df['protesters_estimate'] = og_protests_df['tags'].apply(infer_crowd_size)\n",
    "og_protests_df['size_is_unknown'] = og_protests_df['protesters_estimate'].isna().astype(int)"
   ]
  },
  {
   "cell_type": "markdown",
   "id": "ca6b751a-a01c-41e1-a9cc-511495860e8f",
   "metadata": {},
   "source": [
    "**Frustratingly, we're missing data on the size of protest for the majority of protests**"
   ]
  },
  {
   "cell_type": "code",
   "execution_count": 17,
   "id": "89e8234c-a20c-420e-897b-da5ebac684c9",
   "metadata": {},
   "outputs": [
    {
     "data": {
      "text/plain": [
       "(9036, 5694)"
      ]
     },
     "execution_count": 17,
     "metadata": {},
     "output_type": "execute_result"
    }
   ],
   "source": [
    "len(og_protests_df), sum(og_protests_df['size_is_unknown'])"
   ]
  },
  {
   "cell_type": "markdown",
   "id": "e0182be1-221d-4c47-85c8-dcf63432a3cc",
   "metadata": {},
   "source": [
    "# Model 1: Naive regression, grouping protests by a large regular interval\n",
    "\n",
    "Since we don't have a target value unless there's at least one speech, we could group all our data by regular intervals - but those intervals have to be large enough to reliably contain a speech throughout our data (which turns out to be every 70 days).\n"
   ]
  },
  {
   "cell_type": "markdown",
   "id": "6bb7f815-5e76-4e94-8a9c-1a827f7bfd99",
   "metadata": {},
   "source": [
    "**Find the max interval between speeches**"
   ]
  },
  {
   "cell_type": "code",
   "execution_count": 18,
   "id": "d738e9bf-e794-4589-b1d6-4a1d6ed1697f",
   "metadata": {},
   "outputs": [
    {
     "data": {
      "text/plain": [
       "Timedelta('70 days 00:00:00')"
      ]
     },
     "execution_count": 18,
     "metadata": {},
     "output_type": "execute_result"
    }
   ],
   "source": [
    "dates = pd.Series(speeches_df.index)\n",
    "\n",
    "intervals = [dates.iloc[i] - dates.iloc[i - 1] for i in range(len(speeches_df)) if i > 0] \n",
    "max_interval = max(intervals)\n",
    "max_interval"
   ]
  },
  {
   "cell_type": "markdown",
   "id": "27371f8a-4a2b-4e6b-b34d-ccb4de2efcc3",
   "metadata": {},
   "source": [
    "**Group each protest and each speech into some number of max_intervals (i.e. 70-day periods) from our start time**"
   ]
  },
  {
   "cell_type": "code",
   "execution_count": 19,
   "id": "0859de5c-1418-4f5b-b482-8c1a990be1b6",
   "metadata": {},
   "outputs": [
    {
     "data": {
      "text/plain": [
       "grouping_period\n",
       "2020-03-11    0.014621\n",
       "2020-05-20    0.014586\n",
       "2020-07-29    0.009729\n",
       "Freq: 70D, Name: climate_mentions_percent, dtype: float64"
      ]
     },
     "execution_count": 19,
     "metadata": {},
     "output_type": "execute_result"
    }
   ],
   "source": [
    "def count_intervals_from_start(date):\n",
    "    start_date = og_protests_df['event_date'].min()\n",
    "    offset = pd.offsets.Day(max_interval.days)\n",
    "    period = start_date.to_period(freq=offset)\n",
    "    intervals = (date - start_date) // max_interval\n",
    "    return period + intervals + 1\n",
    "\n",
    "# Create a new column with the periods\n",
    "speeches_df['grouping_period'] = speeches_df.index.map(count_intervals_from_start)\n",
    "\n",
    "# Group by the period\n",
    "y_regular = speeches_df.groupby('grouping_period')['climate_mentions_percent'].mean()\n",
    "y_regular.head(3)"
   ]
  },
  {
   "cell_type": "code",
   "execution_count": 20,
   "id": "3c83c18d-19b0-477c-bdc0-5946f33cb316",
   "metadata": {},
   "outputs": [
    {
     "data": {
      "text/html": [
       "<div>\n",
       "<style scoped>\n",
       "    .dataframe tbody tr th:only-of-type {\n",
       "        vertical-align: middle;\n",
       "    }\n",
       "\n",
       "    .dataframe tbody tr th {\n",
       "        vertical-align: top;\n",
       "    }\n",
       "\n",
       "    .dataframe thead th {\n",
       "        text-align: right;\n",
       "    }\n",
       "</style>\n",
       "<table border=\"1\" class=\"dataframe\">\n",
       "  <thead>\n",
       "    <tr style=\"text-align: right;\">\n",
       "      <th></th>\n",
       "      <th>protesters_estimate</th>\n",
       "      <th>size_is_unknown</th>\n",
       "      <th>num_protests</th>\n",
       "    </tr>\n",
       "    <tr>\n",
       "      <th>grouping_period</th>\n",
       "      <th></th>\n",
       "      <th></th>\n",
       "      <th></th>\n",
       "    </tr>\n",
       "  </thead>\n",
       "  <tbody>\n",
       "    <tr>\n",
       "      <th>2020-03-11</th>\n",
       "      <td>122288.0</td>\n",
       "      <td>263</td>\n",
       "      <td>407</td>\n",
       "    </tr>\n",
       "    <tr>\n",
       "      <th>2020-05-20</th>\n",
       "      <td>2125.0</td>\n",
       "      <td>96</td>\n",
       "      <td>142</td>\n",
       "    </tr>\n",
       "    <tr>\n",
       "      <th>2020-07-29</th>\n",
       "      <td>12556.0</td>\n",
       "      <td>185</td>\n",
       "      <td>278</td>\n",
       "    </tr>\n",
       "  </tbody>\n",
       "</table>\n",
       "</div>"
      ],
      "text/plain": [
       "                 protesters_estimate  size_is_unknown  num_protests\n",
       "grouping_period                                                    \n",
       "2020-03-11                  122288.0              263           407\n",
       "2020-05-20                    2125.0               96           142\n",
       "2020-07-29                   12556.0              185           278"
      ]
     },
     "execution_count": 20,
     "metadata": {},
     "output_type": "execute_result"
    }
   ],
   "source": [
    "# Group the protests by the same interval as above\n",
    "og_protests_df['grouping_period'] = og_protests_df['event_date'].map(count_intervals_from_start)\n",
    "\n",
    "num_protests = og_protests_df.groupby('grouping_period').size()\n",
    "\n",
    "regularised_protests_df = og_protests_df.groupby('grouping_period').agg({\n",
    "    'protesters_estimate': 'sum',\n",
    "    'size_is_unknown': 'sum'\n",
    "}).assign(num_protests=og_protests_df.groupby('grouping_period').size())\n",
    "\n",
    "regularised_protests_df.head(3)"
   ]
  },
  {
   "cell_type": "markdown",
   "id": "80f17f50-4c6f-4856-bc41-cf25d08aa183",
   "metadata": {},
   "source": [
    "**For our basic model, we treat each 70-day period as unrelated, with protests having no persistent effects beyond the subsequent speech. We also assume the mean number of protesters for those with missing values**"
   ]
  },
  {
   "cell_type": "code",
   "execution_count": 21,
   "id": "4d17779e-de47-4ff5-80d3-6e3fa7db7a48",
   "metadata": {},
   "outputs": [],
   "source": [
    "class ProtestSizeImputer(BaseEstimator, TransformerMixin):\n",
    "    def fit(self, X, y=None):\n",
    "        return self\n",
    "\n",
    "    def transform(self, X):\n",
    "        X = X.copy()\n",
    "        X['protesters_estimate'] = X['protesters_estimate'] + X['size_is_unknown'] * og_protests_df['protesters_estimate'].mean()\n",
    "\n",
    "        # Make this method agnostic as to whether the features include number of protests, for easy iteration later\n",
    "        columns_to_return = ['protesters_estimate']\n",
    "        if 'num_protests' in X.columns:\n",
    "            columns_to_return.append('num_protests')\n",
    "            \n",
    "        return X[columns_to_return]\n"
   ]
  },
  {
   "cell_type": "markdown",
   "id": "f1b793fb-b3ec-4d42-8d12-c1c411601377",
   "metadata": {},
   "source": [
    "**There's already strong and robust correlations between [number of *protests* & climate mentions] and between [number of protest*ers* & climate mentions]**"
   ]
  },
  {
   "cell_type": "code",
   "execution_count": 22,
   "id": "3b5eb838-4511-4a18-9775-134399afd4be",
   "metadata": {},
   "outputs": [],
   "source": [
    "transformer = Pipeline([\n",
    "    ('protest_size_imputer', ProtestSizeImputer()),\n",
    "    ('scaler', RobustScaler()), # TODO maybe standard scaler is better since this is relatively smooth\n",
    "\n",
    "\n",
    "correlation_df = ProtestSizeImputer().transform(regularised_protests_df)"
   ]
  },
  {
   "cell_type": "code",
   "execution_count": 27,
   "id": "76ba4bcb-be14-435a-b0e2-c063ba5b3f46",
   "metadata": {},
   "outputs": [
    {
     "data": {
      "image/png": "[encoded data removed]",
      "text/plain": [
       "<Figure size 640x480 with 2 Axes>"
      ]
     },
     "metadata": {},
     "output_type": "display_data"
    }
   ],
   "source": [
    "correlation_df['climate_mentions'] = y_regular\n",
    "sns.heatmap(regularised_protests_df[['protesters_estimate', 'num_protests', 'climate_mentions']].corr(), annot=True, cmap='viridis')\n",
    "plt.title(\"Correlation Heatmap\", fontsize=16);"
   ]
  },
  {
   "cell_type": "code",
   "execution_count": 28,
   "id": "3b3f29f4-6748-49a9-865c-a24250972cea",
   "metadata": {},
   "outputs": [
    {
     "name": "stdout",
     "output_type": "stream",
     "text": [
      "p-value for [protests/climate mentions] correlation: 0.0009999459368019584\n",
      "p-value for [protesters/climate mentions] correlation: 0.0002701769943015717\n",
      "90% confidence interval for protesters correlation: ((np.float64(0.45744575216332634), np.float64(0.8479431225194269)))\n"
     ]
    },
    {
     "data": {
      "text/plain": [
       "(np.float64(0.6523804128652052), np.float64(0.702100766438573))"
      ]
     },
     "execution_count": 28,
     "metadata": {},
     "output_type": "execute_result"
    }
   ],
   "source": [
    "from scipy import stats\n",
    "\n",
    "protests_corr, protests_p_val = stats.pearsonr(correlation_df['num_protests'], correlation_df['climate_mentions'])[0:2]\n",
    "protesters_corr, protesters_p_val = stats.pearsonr(correlation_df['protesters_estimate'], correlation_df['climate_mentions'])[0:2]\n",
    "protesters_ci_low, protesters_ci_high = stats.pearsonr(correlation_df['protesters_estimate'], correlation_df['climate_mentions']).confidence_interval(0.9)\n",
    "print(f\"p-value for [protests/climate mentions] correlation: {protests_p_val}\")\n",
    "print(f\"p-value for [protesters/climate mentions] correlation: {protesters_p_val}\")\n",
    "print(f\"90% confidence interval for protesters correlation: ({protesters_ci_low, protesters_ci_high})\")\n",
    "protests_corr, protesters_corr"
   ]
  },
  {
   "cell_type": "markdown",
   "id": "a2b501ac-6652-475a-8733-06b26075ba82",
   "metadata": {},
   "source": [
    "**The following step plot compares the number of protesters and climate mentions over consecutive 70-day periods.**"
   ]
  },
  {
   "cell_type": "code",
   "execution_count": null,
   "id": "80b79406-4d96-41c6-b9c3-e69a13b024f0",
   "metadata": {},
   "outputs": [],
   "source": [
    "fig, ax = plt.subplots(figsize=(22, 8))\n",
    "protester_color = 'green'\n",
    "climate_mentions_color = \"purple\"\n",
    "\n",
    "# Extend the time series by one period\n",
    "last_period = y_regular.index[-1]\n",
    "next_period = last_period + 1\n",
    "extended_index = y_regular.index.append(pd.PeriodIndex([next_period]))\n",
    "\n",
    "# Create extended series for both datasets\n",
    "extended_protesters = pd.Series(correlation_df['protesters_estimate'].values.tolist() + [correlation_df['protesters_estimate'].iloc[-1]], index=extended_index)\n",
    "extended_climate = pd.Series(y_regular.values.tolist() + [y_regular.iloc[-1]], index=extended_index)\n",
    "\n",
    "# Convert PeriodIndex to DatetimeIndex for plotting\n",
    "datetime_index = extended_index.to_timestamp(how='start')\n",
    "\n",
    "# Plot protest_stock\n",
    "ax.step(datetime_index, extended_protesters, where='post', label='Protesters scaled', color=protester_color, linewidth=2)\n",
    "\n",
    "# Set primary y-axis label\n",
    "ax.set_ylabel(\"Protesters in period\", color=protester_color)\n",
    "ax.tick_params(axis='y', labelcolor=protester_color)\n",
    "\n",
    "# Create a secondary y-axis\n",
    "ax2 = ax.twinx()\n",
    "\n",
    "# Plot climate_mentions_percent on the secondary y-axis\n",
    "ax2.step(datetime_index, extended_climate, where='post', label='Climate Mentions Percent', color=climate_mentions_color, linewidth=2)\n",
    "\n",
    "# Set secondary y-axis label and color\n",
    "ax2.set_ylabel(\"Climate Mentions Percent\", color=climate_mentions_color)\n",
    "ax2.tick_params(axis='y', labelcolor=climate_mentions_color)\n",
    "\n",
    "# Set the limits for the secondary y-axis\n",
    "max_climate_mentions = y_regular.max()\n",
    "ax2.set_ylim(0, max_climate_mentions * 1.1)  # Set max to 110% of the actual max value\n",
    "\n",
    "# Set x-axis label\n",
    "ax.set_xlabel(\"Date\")\n",
    "\n",
    "# Set title\n",
    "plt.title(f\"Step plot: Number of protesters vs Climate Mentions over {max_interval.days} day periods\", fontsize=20, fontweight=\"bold\", pad=25)\n",
    "\n",
    "# Format x-axis labels to show date ranges\n",
    "ax.xaxis.set_major_locator(mdates.AutoDateLocator())\n",
    "ax.xaxis.set_major_formatter(mdates.DateFormatter('%Y-%m-%d'))\n",
    "plt.xticks(rotation=45, ha='right')\n",
    "\n",
    "# Add legend\n",
    "lines1, labels1 = ax.get_legend_handles_labels()\n",
    "lines2, labels2 = ax2.get_legend_handles_labels()\n",
    "ax.legend(lines1 + lines2, labels1 + labels2, loc='upper left')\n",
    "\n",
    "# Adjust layout to prevent clipping of labels\n",
    "fig.tight_layout()\n",
    "\n",
    "plt.show()"
   ]
  },
  {
   "cell_type": "markdown",
   "id": "a36c66b5-0ac1-4174-853a-6948e9a29245",
   "metadata": {},
   "source": [
    "**Since we're not looking at any time-sensitive notion of data, we can use a regular train/test split for our base model...**"
   ]
  },
  {
   "cell_type": "code",
   "execution_count": null,
   "id": "5aa24045-7724-4e48-a142-5862e3a54a30",
   "metadata": {},
   "outputs": [],
   "source": [
    "X_train, X_test, y_train, y_test = train_test_split(regularised_protests_df, y_regular, test_size=0.2)"
   ]
  },
  {
   "cell_type": "code",
   "execution_count": null,
   "id": "046d1c93-171c-4307-9545-1201599fd556",
   "metadata": {},
   "outputs": [],
   "source": [
    "pd.concat([regularised_protests_df.tail(4), y_regular.tail(4)], axis=1)"
   ]
  },
  {
   "cell_type": "code",
   "execution_count": null,
   "id": "5053723b-daa2-452f-9431-797ec08fe3c4",
   "metadata": {},
   "outputs": [],
   "source": [
    "split_date = regularised_protests_df.index[-int(len(regularised_protests_df) * 0.2)]\n",
    "\n",
    "X_train = regularised_protests_df.loc[:split_date]\n",
    "X_test = regularised_protests_df.loc[split_date:]\n",
    "y_train = y_regular.loc[:split_date]\n",
    "y_test = y_regular.loc[split_date:]"
   ]
  },
  {
   "cell_type": "code",
   "execution_count": null,
   "id": "e27b0759-8d60-49a3-aeae-b0898c661ace",
   "metadata": {},
   "outputs": [],
   "source": [
    "pd.concat([X_test, y_test], axis=1)"
   ]
  },
  {
   "cell_type": "markdown",
   "id": "306b9942-722c-4d6c-9b74-77ba129fc268",
   "metadata": {},
   "source": [
    "**... but this combined with such large groupings leaves us with very little data :(**"
   ]
  },
  {
   "cell_type": "code",
   "execution_count": null,
   "id": "9a71449b-394e-4192-8b9e-92e610a06d63",
   "metadata": {},
   "outputs": [],
   "source": [
    "X_train.shape"
   ]
  },
  {
   "cell_type": "markdown",
   "id": "fc3e21bd-4835-436d-8672-17f493f9a597",
   "metadata": {},
   "source": [
    "**We don't have any hyperparameters in the base model, so can jump straight into scoring it**"
   ]
  },
  {
   "cell_type": "code",
   "execution_count": null,
   "id": "a52f7895-479e-4f93-9446-cb8709540127",
   "metadata": {},
   "outputs": [],
   "source": [
    "protester_pipeline = Pipeline([\n",
    "    ('protest_size_imputer', ProtestSizeImputer()),\n",
    "    ('scaler', RobustScaler()), # TODO maybe standard scaler is better since this is relatively smooth\n",
    "    ('linear_regression', LinearRegression())\n",
    "])\n",
    "\n",
    "protest_and_protester_model_score = cross_val_score(protester_pipeline, regularised_protests_df[['protesters_estimate', 'size_is_unknown', 'num_protests']], y_regular).mean()\n",
    "protester_model_score = cross_val_score(protester_pipeline, regularised_protests_df[['protesters_estimate', 'size_is_unknown']], y_regular).mean()\n",
    "\n",
    "protest_pipeline = Pipeline([\n",
    "    ('scaler', RobustScaler()),\n",
    "    ('linear_regression', LinearRegression())\n",
    "])\n",
    "protest_model_score = cross_val_score(protest_pipeline, regularised_protests_df[['num_protests']], y_regular).mean()\n",
    "\n",
    "print(f\"Score using both protest and protester data: {protest_and_protester_model_score}\")\n",
    "print(f\"Score using protest data only: {protest_model_score}\")\n",
    "print(f\"Score using protester data only: {protester_model_score}\")\n"
   ]
  },
  {
   "cell_type": "code",
   "execution_count": null,
   "id": "33dfea92-a39b-440b-9b86-fab71562e9a3",
   "metadata": {},
   "outputs": [],
   "source": [
    "y_test"
   ]
  },
  {
   "cell_type": "code",
   "execution_count": null,
   "id": "521ee18f-59fa-4d2f-ac27-d76516b41080",
   "metadata": {},
   "outputs": [],
   "source": [
    "permutation_test_score(LinearRegression(), regularised_protests_df[['protesters_estimate']], y_regular, n_permutations=100)"
   ]
  },
  {
   "cell_type": "markdown",
   "id": "df403c2e-8f87-41be-888c-e8d1fada8544",
   "metadata": {},
   "source": [
    "# Adstock model"
   ]
  },
  {
   "cell_type": "code",
   "execution_count": null,
   "id": "f5548dce-d045-458e-9ca0-4c82c297a08e",
   "metadata": {},
   "outputs": [],
   "source": [
    "decay_param = ri_random_search.best_params_['regularised_protest_stock_calculator__decay_param']\n",
    "initial_stock = ri_random_search.best_params_['regularised_protest_stock_calculator__initial_stock']\n",
    "\n",
    "ri_data_transform = Pipeline([\n",
    "  ('regularised_protest_stock_calculator', RegularisedProtestStockCalculator(decay_param=decay_param, initial_stock=initial_stock)),\n",
    "])\n",
    "\n",
    "ri_data_scaler = Pipeline([\n",
    "  ('protest_size_imputer', ProtestSizeImputer(assumed_size=assumed_size)),\n",
    "  ('regularised_protest_stock_calculator', RegularisedProtestStockCalculator(decay_param=decay_param, initial_stock=initial_stock)),\n",
    "  ('scaler', RobustScaler())\n",
    "])\n",
    "\n",
    "ri_adstock_df = ri_data_transform.fit_transform(regularised_protests_df)\n",
    "ri_adstock_arr = ri_data_scaler.fit_transform(regularised_protests_df)\n",
    "decay_param, initial_stock"
   ]
  },
  {
   "cell_type": "code",
   "execution_count": null,
   "id": "0a1bd087-af7d-41fb-8fa0-6f9471968bad",
   "metadata": {},
   "outputs": [],
   "source": [
    "class RegularisedProtestStockCalculator(BaseEstimator, TransformerMixin):\n",
    "    def __init__(self, decay_param=0.99, initial_stock=600_000):\n",
    "        self.decay_param = decay_param\n",
    "        self.initial_stock = initial_stock\n",
    "\n",
    "    def fit(self, X, y=None):\n",
    "        return self\n",
    "\n",
    "    def transform(self, X):\n",
    "        X = X.copy()\n",
    "        protester_stock = np.zeros(len(X))\n",
    "        protester_stock[0] = self.initial_stock + X['protesters_estimate'].iloc[0]\n",
    "        for t in range(1, len(X)):\n",
    "            protester_stock[t] = X['protesters_estimate'].iloc[t] + self.decay_param * protester_stock[t-1]\n",
    "\n",
    "        # Then repeat above, but counting protests rather than protesters\n",
    "        protester_stock = np.zeros(len(X))\n",
    "        protester_stock[0] = self.initial_stock + X['protesters_estimate'].iloc[0]\n",
    "        for t in range(1, len(X)):\n",
    "            protester_stock[t] = X['protesters_estimate'].iloc[t] + self.decay_param * protester_stock[t-1]\n",
    "        return pd.DataFrame({'protester_stock': protester_stock.flatten()}, index=X.index)\n",
    "\n",
    "\n",
    "\n",
    "# Create the full pipeline\n",
    "regularised_interval_pipeline = Pipeline([\n",
    "    ('protest_size_imputer', ProtestSizeImputer()),\n",
    "    ('regularised_protest_stock_calculator', RegularisedProtestStockCalculator()),\n",
    "    ('scaler', RobustScaler()), # TODO maybe standard scaler is better since this is relatively smooth\n",
    "    ('linear_regression', LinearRegression())\n",
    "])\n",
    "\n",
    "# Set up RandomizedSearchCV\n",
    "ri_param_distributions = {\n",
    "    'regularised_protest_stock_calculator__decay_param': uniform(0, 0.2),\n",
    "    'regularised_protest_stock_calculator__initial_stock': randint(0, 80_000),\n",
    "    'protest_size_imputer__assumed_size': randint(0, 2000),\n",
    "}\n",
    "\n",
    "ri_random_search = RandomizedSearchCV(\n",
    "    regularised_interval_pipeline,\n",
    "    ri_param_distributions,\n",
    "    cv=5,\n",
    "    scoring='neg_mean_squared_error',\n",
    "    n_iter=300,\n",
    "    # random_state=42# adjust as needed\n",
    ")\n",
    "\n",
    "# Fit the random search\n",
    "ri_random_search.fit(regularised_protests_df, y_regular)\n",
    "\n",
    "# Get best parameters\n",
    "print(ri_random_search.best_params_)\n",
    "\n",
    "# Get the best estimator\n",
    "best_ri_model = ri_random_search.best_estimator_"
   ]
  },
  {
   "cell_type": "code",
   "execution_count": null,
   "id": "3dee4e04-bd47-448c-b9e1-e1a1b81a222f",
   "metadata": {},
   "outputs": [],
   "source": [
    "class ProtestSizeImputer(BaseEstimator, TransformerMixin):\n",
    "    def __init__(self, assumed_size=3000):\n",
    "        self.assumed_size = 0\n",
    "\n",
    "    def fit(self, X, y=None):\n",
    "        return self\n",
    "\n",
    "    def transform(self, X):\n",
    "        X = X.copy()\n",
    "        X['protesters_estimate'] = X['protesters_estimate'] + X['size_is_unknown'] * self.assumed_size\n",
    "        return X\n",
    "\n",
    "class RegularisedProtestStockCalculator(BaseEstimator, TransformerMixin):\n",
    "    def __init__(self, decay_param=0.99, initial_stock=600_000):\n",
    "        self.decay_param = decay_param\n",
    "        self.initial_stock = initial_stock\n",
    "\n",
    "    def fit(self, X, y=None):\n",
    "        return self\n",
    "\n",
    "    def transform(self, X):\n",
    "        X = X.copy()\n",
    "        protester_stock = np.zeros(len(X))\n",
    "        protester_stock[0] = self.initial_stock + X['protesters_estimate'].iloc[0]\n",
    "        for t in range(1, len(X)):\n",
    "            protester_stock[t] = X['protesters_estimate'].iloc[t] + self.decay_param * protester_stock[t-1]\n",
    "        return pd.DataFrame({'protester_stock': protester_stock.flatten()}, index=X.index)\n",
    "\n",
    "\n",
    "\n",
    "# Create the full pipeline\n",
    "regularised_interval_pipeline = Pipeline([\n",
    "    ('protest_size_imputer', ProtestSizeImputer()),\n",
    "    ('regularised_protest_stock_calculator', RegularisedProtestStockCalculator()),\n",
    "    ('scaler', RobustScaler()), # TODO maybe standard scaler is better since this is relatively smooth\n",
    "    ('linear_regression', LinearRegression())\n",
    "])\n",
    "\n",
    "# Set up RandomizedSearchCV\n",
    "ri_param_distributions = {\n",
    "    'regularised_protest_stock_calculator__decay_param': uniform(0, 0.2),\n",
    "    'regularised_protest_stock_calculator__initial_stock': randint(0, 80_000),\n",
    "    'protest_size_imputer__assumed_size': randint(0, 1),\n",
    "}\n",
    "\n",
    "ri_random_search = RandomizedSearchCV(\n",
    "    regularised_interval_pipeline,\n",
    "    ri_param_distributions,\n",
    "    cv=5,\n",
    "    scoring='neg_mean_squared_error',\n",
    "    n_iter=300,\n",
    "    # random_state=42# adjust as needed\n",
    ")\n",
    "\n",
    "# Fit the random search\n",
    "ri_random_search.fit(regularised_protests_df, y_regular)\n",
    "\n",
    "# Get best parameters\n",
    "print(ri_random_search.best_params_)\n",
    "\n",
    "# Get the best estimator\n",
    "best_ri_model = ri_random_search.best_estimator_"
   ]
  },
  {
   "cell_type": "code",
   "execution_count": null,
   "id": "42f82383-3ce2-44d2-81a4-facb4450e356",
   "metadata": {},
   "outputs": [],
   "source": [
    "protests_df['protester_stock'] = adstock_df['protest_stock']\n",
    "protests_df['climate_mentions_percent'] = y\n",
    "protests_df.corr()"
   ]
  },
  {
   "cell_type": "markdown",
   "id": "fbf9fbe1-52cb-415e-937f-45d4cf69c4ab",
   "metadata": {},
   "source": [
    "# Original model"
   ]
  },
  {
   "cell_type": "markdown",
   "id": "17747ea5-494f-432b-86fa-fb71be77db0b",
   "metadata": {},
   "source": [
    "**Sum the number of protests and (known) protesters between each date on which there was a speech**"
   ]
  },
  {
   "cell_type": "code",
   "execution_count": null,
   "id": "45ee4fc9-5302-4962-a1ce-e21b93c30205",
   "metadata": {},
   "outputs": [],
   "source": [
    "def get_next_speech_date(date):\n",
    "    idx = speeches_df.index.searchsorted(date)\n",
    "    return speeches_df.index[idx]\n",
    "\n",
    "og_protests_df['next_speech_date'] = og_protests_df['event_date'].apply(get_next_speech_date)"
   ]
  },
  {
   "cell_type": "code",
   "execution_count": null,
   "id": "07985a40-9a20-4464-9ac7-b59aeb96eb12",
   "metadata": {},
   "outputs": [],
   "source": [
    "# Group the protests by when the subsequent speech was, but retain info of how many of them there were,\n",
    "# and of those, how many were unknown, since we need to retrospectively impute\n",
    "# these later\n",
    "\n",
    "num_protests = og_protests_df.groupby('next_speech_date').size()\n",
    "\n",
    "protests_df = og_protests_df.groupby('next_speech_date').agg({\n",
    "    'protesters_estimate': 'sum',\n",
    "    'size_is_unknown': 'sum'\n",
    "}).assign(num_protests=og_protests_df.groupby('next_speech_date').size())"
   ]
  },
  {
   "cell_type": "code",
   "execution_count": null,
   "id": "4b4686d0-bc55-4678-bd19-857618d37f76",
   "metadata": {},
   "outputs": [],
   "source": [
    "protests_df.index = pd.to_datetime(protests_df.index)\n",
    "\n",
    "# Some speeches don't have any record of protests between them. For now,\n",
    "# we'll take that at face value and assume that means there were no protests\n",
    "protests_df = protests_df.reindex(speeches_df.index, fill_value=0)\n",
    "\n",
    "# Calculate the difference in days using a list comprehension\n",
    "days_diff = [0] + [(protests_df.index[i] - protests_df.index[i-1]).days\n",
    "                   for i in range(1, len(protests_df))]\n",
    "\n",
    "# Add the new column to the dataframe\n",
    "protests_df['days_since_last'] = days_diff\n",
    "\n",
    "# Fill the first row's value with number of days between start of protest data\n",
    "# and the first speech in our date range\n",
    "protests_df.loc[protests_df.index[0], 'days_since_last'] = (protests_df.index[0] - first_protest).days"
   ]
  },
  {
   "cell_type": "code",
   "execution_count": null,
   "id": "7282fbd5-0269-4102-ba7d-63bb58d84e89",
   "metadata": {},
   "outputs": [],
   "source": [
    "class ProtestSizeImputer(BaseEstimator, TransformerMixin):\n",
    "    def __init__(self, assumed_size=3000):\n",
    "        self.assumed_size = 0\n",
    "\n",
    "    def fit(self, X, y=None):\n",
    "        return self\n",
    "\n",
    "    def transform(self, X):\n",
    "        X = X.copy()\n",
    "        X['protesters_estimate'] = X['protesters_estimate'] + X['size_is_unknown'] * self.assumed_size\n",
    "        return X\n",
    "\n",
    "class ProtestTimeAccounter(BaseEstimator, TransformerMixin):\n",
    "    \"\"\"Averages the number of protesters over number of days between speeches\"\"\"\n",
    "\n",
    "    def fit(self, X, y=None):\n",
    "        return self\n",
    "\n",
    "    def transform(self, X):\n",
    "        X = X.copy()\n",
    "        X['protesters_per_day_estimate'] = X['protesters_estimate'] / X['days_since_last']\n",
    "        return X\n",
    "\n",
    "class ProtestStockCalculator(BaseEstimator, TransformerMixin):\n",
    "    def __init__(self, decay_param=0.99, initial_stock=600_000):\n",
    "        self.decay_param = decay_param\n",
    "        self.initial_stock = initial_stock\n",
    "\n",
    "    def fit(self, X, y=None):\n",
    "        return self\n",
    "\n",
    "    def transform(self, X):\n",
    "        X = X.copy()\n",
    "        protest_stock = np.zeros(len(X))\n",
    "        protest_stock[0] = self.initial_stock + X['protesters_per_day_estimate'].iloc[0]\n",
    "        for t in range(1, len(X)):\n",
    "            # Treating speeches themselves as the unit of time\n",
    "            # protest_stock[t] = X['protesters_per_day_estimate'].iloc[t] + self.decay_param * protest_stock[t-1]\n",
    "\n",
    "            # Partially accounting for time between speeches\n",
    "            protest_stock[t] = X['protesters_per_day_estimate'].iloc[t] + self.decay_param ** (X['days_since_last'].iloc[t]) * protest_stock[t-1]\n",
    "        return pd.DataFrame({'protest_stock': protest_stock.flatten()}, index=X.index)\n",
    "        # X['protest_stock'] = protest_stock\n",
    "        # return X['protest_stock']\n",
    "\n",
    "\n",
    "\n",
    "# Create the full pipeline\n",
    "pipeline = Pipeline([\n",
    "    ('protest_size_imputer', ProtestSizeImputer()),\n",
    "    ('protest_time_accounter', ProtestTimeAccounter()),\n",
    "    ('protest_stock_calculator', ProtestStockCalculator()),\n",
    "    ('scaler', RobustScaler()), # TODO maybe standard scaler is better since this is relatively smooth\n",
    "    ('linear_regression', LinearRegression())\n",
    "])\n",
    "\n",
    "# Set up RandomizedSearchCV\n",
    "param_distributions = {\n",
    "    'protest_stock_calculator__decay_param': uniform(0.4, 0.6),\n",
    "    'protest_stock_calculator__initial_stock': randint(0, 50_000),\n",
    "    'protest_size_imputer__assumed_size': randint(0, 5000),\n",
    "}\n",
    "\n",
    "# Assuming you have your data in protests_df and y\n",
    "y = speeches_df['climate_mentions_percent']\n",
    "\n",
    "random_search = RandomizedSearchCV(\n",
    "    pipeline,\n",
    "    param_distributions,\n",
    "    cv=5,\n",
    "    scoring='neg_mean_squared_error',\n",
    "    n_iter=100,\n",
    "    random_state=42# adjust as needed\n",
    ")\n",
    "\n",
    "# Fit the random search\n",
    "random_search.fit(protests_df, y)\n",
    "\n",
    "# Get best parameters\n",
    "print(random_search.best_params_)\n",
    "\n",
    "# Get the best estimator\n",
    "best_model = random_search.best_estimator_\n",
    "\n",
    "# You can now use best_model to make predictions\n",
    "# predictions = best_model.predict(new_data)\n",
    "\n",
    "# Time-insensitive model\n",
    "# {'protest_size_imputer__assumed_size': 527, 'protest_stock_calculator__decay_param': 0.9229701077973101, 'protest_stock_calculator__initial_stock': 211}\n",
    "# {'protest_size_imputer__assumed_size': 4924, 'protest_stock_calculator__decay_param': 0.922730372125585, 'protest_stock_calculator__initial_stock': 1337}\n",
    "\n",
    "\n",
    "# Time-sensitive model"
   ]
  },
  {
   "cell_type": "code",
   "execution_count": null,
   "id": "667df3f6-eded-4d7d-b6fd-6ff3511e2d0b",
   "metadata": {},
   "outputs": [],
   "source": [
    "assumed_size = random_search.best_params_['protest_size_imputer__assumed_size']\n",
    "decay_param = random_search.best_params_['protest_stock_calculator__decay_param']\n",
    "initial_stock = random_search.best_params_['protest_stock_calculator__initial_stock']\n",
    "\n",
    "# assumed_size = 860\n",
    "# decay_param = 0.55\n",
    "# initial_stock = 25_000\n",
    "\n",
    "data_transform = Pipeline([\n",
    "  ('protest_size_imputer', ProtestSizeImputer(assumed_size=assumed_size)),\n",
    "  ('protest_time_accounter', ProtestTimeAccounter()),\n",
    "  ('protest_stock_calculator', ProtestStockCalculator(decay_param=decay_param, initial_stock=initial_stock)),\n",
    "])\n",
    "\n",
    "data_scaler = Pipeline([\n",
    "  ('protest_size_imputer', ProtestSizeImputer(assumed_size=assumed_size)),\n",
    "  ('protest_time_accounter', ProtestTimeAccounter()),\n",
    "  ('protest_stock_calculator', ProtestStockCalculator(decay_param=decay_param, initial_stock=initial_stock)),\n",
    "  ('scaler', RobustScaler())\n",
    "])\n",
    "\n",
    "adstock_df = data_transform.fit_transform(protests_df)\n",
    "adstock_arr = data_scaler.fit_transform(protests_df)"
   ]
  },
  {
   "cell_type": "markdown",
   "id": "ce458788-63b5-4ae1-9f6c-542dbc1e6e65",
   "metadata": {},
   "source": [
    "**The following step graph shows how protester count corresponds to climate mentions over 70-day periods**"
   ]
  },
  {
   "cell_type": "code",
   "execution_count": null,
   "id": "1250653e-fc84-46a6-9a38-ebc1a62540ba",
   "metadata": {},
   "outputs": [],
   "source": [
    "fig, ax1 = plt.subplots(figsize=(22, 5))\n",
    "\n",
    "protester_color = 'green'\n",
    "# Plot protest_stock on the primary y-axis\n",
    "ax1.plot(speeches_df.index, adstock_df['protest_stock'], marker='o', linestyle='-', linewidth=2, color=protester_color)\n",
    "ax1.set_xlabel(\"Date\")\n",
    "ax1.set_ylabel(\"Protester Stock\", color=protester_color)\n",
    "ax1.tick_params(axis='y', labelcolor=protester_color)\n",
    "\n",
    "# Create a secondary y-axis\n",
    "ax2 = ax1.twinx()\n",
    "\n",
    "# Plot climate_mentions_percent on the secondary y-axis\n",
    "climate_mentions_color = \"purple\"\n",
    "ax2.plot(speeches_df.index, y, marker='o', linestyle='-', linewidth=2, color=climate_mentions_color)\n",
    "ax2.set_ylabel(\"Climate Mentions Percent\", color=climate_mentions_color)\n",
    "ax2.tick_params(axis='y', labelcolor=climate_mentions_color)\n",
    "\n",
    "# Set title\n",
    "plt.title(\"'Protester stock' vs Climate Mentions\", fontsize=20, fontweight=\"bold\", pad=25)\n",
    "\n",
    "# Adjust layout to prevent clipping of labels\n",
    "fig.tight_layout()\n",
    "\n",
    "plt.show()"
   ]
  }
 ],
 "metadata": {
  "kernelspec": {
   "display_name": "Python 3 (ipykernel)",
   "language": "python",
   "name": "python3"
  },
  "language_info": {
   "codemirror_mode": {
    "name": "ipython",
    "version": 3
   },
   "file_extension": ".py",
   "mimetype": "text/x-python",
   "name": "python",
   "nbconvert_exporter": "python",
   "pygments_lexer": "ipython3",
   "version": "3.10.6"
  }
 },
 "nbformat": 4,
 "nbformat_minor": 5
}
